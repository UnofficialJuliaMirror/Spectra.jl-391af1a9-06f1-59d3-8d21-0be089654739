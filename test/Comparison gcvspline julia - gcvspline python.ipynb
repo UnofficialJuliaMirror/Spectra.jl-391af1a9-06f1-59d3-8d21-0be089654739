{
 "cells": [
  {
   "cell_type": "code",
   "execution_count": 15,
   "metadata": {
    "collapsed": false
   },
   "outputs": [],
   "source": [
    "using Spectra\n",
    "using PyPlot\n",
    "using Base.Test\n",
    "\n",
    "# the x axis\n",
    "x = collect(0:0.1:150)\n",
    "\n",
    "# a scale factor that you can change\n",
    "scale = 0.1\n",
    "\n",
    "# a fake signal: perfect y\n",
    "y_tot, y_peaks = gaussiennes([10;20.],[40.;60],[5.;15],x)\n",
    "bkg, ~ = gaussiennes([10.],[50.],[50.],x)\n",
    "y_perfect = scale.*(y_tot+bkg)\n",
    "\n",
    "# we add noise: observed y\n",
    "y = scale.*(y_tot+bkg + randn(size(y_tot,1)))\n",
    "\n",
    "roi = [0 20.; 100. 150]\n",
    "\n",
    "rmse = sqrt(sum((bas1 - bkg).^2))./sum(bkg)\n",
    "\n",
    "@test rmse <0.05 # error inferior to 5%, should actually be arround 0.026."
   ]
  },
  {
   "cell_type": "code",
   "execution_count": 16,
   "metadata": {
    "collapsed": false
   },
   "outputs": [
    {
     "data": {
      "text/plain": [
       "\u001b[1m\u001b[32mTest Passed\n",
       "\u001b[0m  Expression: rmse < 0.05\n",
       "   Evaluated: 0.02614355368277582 < 0.05"
      ]
     },
     "execution_count": 16,
     "metadata": {},
     "output_type": "execute_result"
    }
   ],
   "source": []
  },
  {
   "cell_type": "markdown",
   "metadata": {},
   "source": [
    "## "
   ]
  }
 ],
 "metadata": {
  "kernelspec": {
   "display_name": "Julia 0.5.2",
   "language": "julia",
   "name": "julia-0.5"
  },
  "language_info": {
   "file_extension": ".jl",
   "mimetype": "application/julia",
   "name": "julia",
   "version": "0.5.2"
  }
 },
 "nbformat": 4,
 "nbformat_minor": 0
}
